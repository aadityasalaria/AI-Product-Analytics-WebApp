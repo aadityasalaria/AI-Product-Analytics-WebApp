{
  "cells": [
    {
      "cell_type": "markdown",
      "metadata": {},
      "source": [
        "# Recommendation System Testing\n",
        "\n",
        "This notebook tests the recommendation algorithm with different queries and evaluates recommendation quality.\n"
      ]
    },
    {
      "cell_type": "code",
      "execution_count": null,
      "metadata": {},
      "outputs": [],
      "source": [
        "import pandas as pd\n",
        "import numpy as np\n",
        "import matplotlib.pyplot as plt\n",
        "import seaborn as sns\n",
        "from sentence_transformers import SentenceTransformer\n",
        "from sklearn.metrics.pairwise import cosine_similarity\n",
        "from sklearn.decomposition import PCA\n",
        "import warnings\n",
        "warnings.filterwarnings('ignore')\n",
        "\n",
        "# Set style\n",
        "plt.style.use('seaborn-v0_8')\n",
        "sns.set_palette(\"husl\")\n"
      ]
    },
    {
      "cell_type": "markdown",
      "metadata": {},
      "source": [
        "## 1. Setup and Data Preparation\n"
      ]
    },
    {
      "cell_type": "code",
      "execution_count": null,
      "metadata": {},
      "outputs": [],
      "source": [
        "# Load model and create sample data\n",
        "model = SentenceTransformer(\"all-MiniLM-L6-v2\")\n",
        "\n",
        "# Create sample furniture dataset\n",
        "np.random.seed(42)\n",
        "n_products = 100\n",
        "categories = ['sofa', 'chair', 'table', 'bed', 'desk', 'storage']\n",
        "\n",
        "data = {\n",
        "    'id': range(1, n_products + 1),\n",
        "    'name': [f\"{cat.title()} {i}\" for cat in np.random.choice(categories, n_products) for i in range(1, n_products//len(categories) + 1)][:n_products],\n",
        "    'category': np.random.choice(categories, n_products),\n",
        "    'price': np.random.normal(500, 200, n_products).clip(50, 2000),\n",
        "    'description': [f\"Beautiful {cat} perfect for your home\" for cat in np.random.choice(categories, n_products)],\n",
        "}\n",
        "\n",
        "df = pd.DataFrame(data)\n",
        "df['text_for_embedding'] = df['name'] + \" \" + df['category'] + \" \" + df['description']\n",
        "\n",
        "# Generate embeddings\n",
        "embeddings = model.encode(df['text_for_embedding'].tolist())\n",
        "print(f\"Dataset: {df.shape[0]} products\")\n",
        "print(f\"Embeddings: {embeddings.shape}\")\n"
      ]
    }
  ],
  "metadata": {
    "language_info": {
      "name": "python"
    }
  },
  "nbformat": 4,
  "nbformat_minor": 2
}
