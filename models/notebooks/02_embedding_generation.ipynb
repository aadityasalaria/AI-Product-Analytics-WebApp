{
  "cells": [
    {
      "cell_type": "markdown",
      "metadata": {},
      "source": [
        "# Embedding Generation and Analysis\n",
        "\n",
        "This notebook demonstrates how to generate embeddings for furniture products using sentence-transformers and visualize the embedding space.\n"
      ]
    },
    {
      "cell_type": "code",
      "execution_count": null,
      "metadata": {},
      "outputs": [],
      "source": [
        "import pandas as pd\n",
        "import numpy as np\n",
        "import matplotlib.pyplot as plt\n",
        "import seaborn as sns\n",
        "from sentence_transformers import SentenceTransformer\n",
        "from sklearn.decomposition import PCA\n",
        "from sklearn.manifold import TSNE\n",
        "from sklearn.metrics.pairwise import cosine_similarity\n",
        "import warnings\n",
        "warnings.filterwarnings('ignore')\n",
        "\n",
        "# Set style\n",
        "plt.style.use('seaborn-v0_8')\n",
        "sns.set_palette(\"husl\")\n"
      ]
    },
    {
      "cell_type": "markdown",
      "metadata": {},
      "source": [
        "## 1. Load Model and Generate Embeddings\n"
      ]
    },
    {
      "cell_type": "code",
      "execution_count": null,
      "metadata": {},
      "outputs": [],
      "source": [
        "# Load the sentence transformer model\n",
        "model_name = \"all-MiniLM-L6-v2\"\n",
        "print(f\"Loading model: {model_name}\")\n",
        "model = SentenceTransformer(model_name)\n",
        "\n",
        "# Load sample data (same as previous notebook)\n",
        "np.random.seed(42)\n",
        "n_products = 50  # Smaller sample for demonstration\n",
        "categories = ['sofa', 'chair', 'table', 'bed', 'desk', 'storage']\n",
        "\n",
        "data = {\n",
        "    'id': range(1, n_products + 1),\n",
        "    'name': [f\"{cat.title()} {i}\" for cat in np.random.choice(categories, n_products) for i in range(1, n_products//len(categories) + 1)][:n_products],\n",
        "    'category': np.random.choice(categories, n_products),\n",
        "    'price': np.random.normal(500, 200, n_products).clip(50, 2000),\n",
        "    'description': [f\"Beautiful {cat} perfect for your home\" for cat in np.random.choice(categories, n_products)],\n",
        "}\n",
        "\n",
        "df = pd.DataFrame(data)\n",
        "print(f\"Dataset shape: {df.shape}\")\n",
        "df.head()\n"
      ]
    },
    {
      "cell_type": "code",
      "execution_count": null,
      "metadata": {},
      "outputs": [],
      "source": [
        "# Create text for embedding (combine name, category, description)\n",
        "df['text_for_embedding'] = df['name'] + \" \" + df['category'] + \" \" + df['description']\n",
        "\n",
        "# Generate embeddings\n",
        "print(\"Generating embeddings...\")\n",
        "embeddings = model.encode(df['text_for_embedding'].tolist())\n",
        "print(f\"Embedding shape: {embeddings.shape}\")\n",
        "print(f\"Embedding dimension: {embeddings.shape[1]}\")\n",
        "\n",
        "# Store embeddings in dataframe\n",
        "df['embedding'] = [emb.tolist() for emb in embeddings]\n"
      ]
    }
  ],
  "metadata": {
    "language_info": {
      "name": "python"
    }
  },
  "nbformat": 4,
  "nbformat_minor": 2
}
