{
  "cells": [
    {
      "cell_type": "markdown",
      "metadata": {},
      "source": [
        "# Furniture Product Dataset Exploration\n",
        "\n",
        "This notebook explores the furniture product dataset to understand the data structure, distributions, and characteristics.\n"
      ]
    },
    {
      "cell_type": "code",
      "execution_count": null,
      "metadata": {},
      "outputs": [],
      "source": [
        "import pandas as pd\n",
        "import numpy as np\n",
        "import matplotlib.pyplot as plt\n",
        "import seaborn as sns\n",
        "from pathlib import Path\n",
        "import warnings\n",
        "warnings.filterwarnings('ignore')\n",
        "\n",
        "# Set style for better plots\n",
        "plt.style.use('seaborn-v0_8')\n",
        "sns.set_palette(\"husl\")\n"
      ]
    },
    {
      "cell_type": "markdown",
      "metadata": {},
      "source": [
        "## 1. Load and Inspect Dataset\n"
      ]
    },
    {
      "cell_type": "code",
      "execution_count": null,
      "metadata": {},
      "outputs": [],
      "source": [
        "# Load the dataset (assuming CSV format)\n",
        "# Replace with your actual dataset path\n",
        "dataset_path = \"../../backend/datasets/furniture_products.csv\"\n",
        "\n",
        "try:\n",
        "    df = pd.read_csv(dataset_path)\n",
        "    print(f\"Dataset loaded successfully!\")\n",
        "    print(f\"Shape: {df.shape}\")\n",
        "except FileNotFoundError:\n",
        "    print(\"Dataset file not found. Creating sample data for demonstration...\")\n",
        "    \n",
        "    # Create sample furniture dataset\n",
        "    np.random.seed(42)\n",
        "    n_products = 100\n",
        "    \n",
        "    categories = ['sofa', 'chair', 'table', 'bed', 'desk', 'storage']\n",
        "    \n",
        "    data = {\n",
        "        'id': range(1, n_products + 1),\n",
        "        'name': [f\"{cat.title()} {i}\" for cat in np.random.choice(categories, n_products) for i in range(1, n_products//len(categories) + 1)][:n_products],\n",
        "        'category': np.random.choice(categories, n_products),\n",
        "        'price': np.random.normal(500, 200, n_products).clip(50, 2000),\n",
        "        'description': [f\"Beautiful {cat} perfect for your home\" for cat in np.random.choice(categories, n_products)],\n",
        "        'image_url': [f\"https://via.placeholder.com/300x200?text={cat.title()}\" for cat in np.random.choice(categories, n_products)]\n",
        "    }\n",
        "    \n",
        "    df = pd.DataFrame(data)\n",
        "    print(f\"Sample dataset created with {df.shape[0]} products\")\n"
      ]
    }
  ],
  "metadata": {
    "language_info": {
      "name": "python"
    }
  },
  "nbformat": 4,
  "nbformat_minor": 2
}
